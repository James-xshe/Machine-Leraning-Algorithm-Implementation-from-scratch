{
 "cells": [
  {
   "cell_type": "code",
   "execution_count": 1,
   "metadata": {},
   "outputs": [],
   "source": [
    "# import necessary libraries\n",
    "import numpy as np\n",
    "import pandas as pd\n",
    "import re\n",
    "import warnings\n",
    "from string import punctuation\n",
    "warnings.filterwarnings('ignore')\n",
    "from sklearn.model_selection import train_test_split\n",
    "from sklearn.naive_bayes import MultinomialNB\n",
    "from sklearn.linear_model import LogisticRegression\n",
    "from sklearn.pipeline import Pipeline\n",
    "from sklearn.feature_extraction.text import CountVectorizer\n",
    "from sklearn.metrics import classification_report,confusion_matrix, accuracy_score\n",
    "import matplotlib.pyplot as plt\n",
    "from prettytable import PrettyTable"
   ]
  },
  {
   "cell_type": "markdown",
   "metadata": {},
   "source": [
    "## Load dataset "
   ]
  },
  {
   "cell_type": "code",
   "execution_count": 2,
   "metadata": {},
   "outputs": [],
   "source": [
    "columns = ['GT','jobid','title','company_profile','description','requirements','benifits','has_logo','has_question']\n",
    "data = pd.read_csv('fake_job_postings.csv', names=columns, header=1, encoding = 'latin-1')"
   ]
  },
  {
   "cell_type": "markdown",
   "metadata": {},
   "source": [
    "## Clean the text data"
   ]
  },
  {
   "cell_type": "code",
   "execution_count": 3,
   "metadata": {
    "collapsed": true
   },
   "outputs": [],
   "source": [
    "data.dropna(inplace=True)"
   ]
  },
  {
   "cell_type": "code",
   "execution_count": 4,
   "metadata": {
    "collapsed": true
   },
   "outputs": [],
   "source": [
    "def clean(text):\n",
    "    text = str(text)\n",
    "    text = text.lower()\n",
    "    text = re.sub(r'[' + punctuation.replace('@', '') + ']+', ' ', text)\n",
    "    text = re.sub(r'\\s\\s+', ' ', text)\n",
    "    text = text.lstrip(' ') \n",
    "    return text"
   ]
  },
  {
   "cell_type": "code",
   "execution_count": 5,
   "metadata": {},
   "outputs": [],
   "source": [
    "data['company_profile'] = data['company_profile'].apply(clean)\n",
    "data['requirements'] = data['requirements'].apply(clean)\n",
    "data['benifits'] = data['benifits'].apply(clean)"
   ]
  },
  {
   "cell_type": "code",
   "execution_count": 6,
   "metadata": {},
   "outputs": [
    {
     "data": {
      "text/html": [
       "<div>\n",
       "<style>\n",
       "    .dataframe thead tr:only-child th {\n",
       "        text-align: right;\n",
       "    }\n",
       "\n",
       "    .dataframe thead th {\n",
       "        text-align: left;\n",
       "    }\n",
       "\n",
       "    .dataframe tbody tr th {\n",
       "        vertical-align: top;\n",
       "    }\n",
       "</style>\n",
       "<table border=\"1\" class=\"dataframe\">\n",
       "  <thead>\n",
       "    <tr style=\"text-align: right;\">\n",
       "      <th></th>\n",
       "      <th>GT</th>\n",
       "      <th>jobid</th>\n",
       "      <th>title</th>\n",
       "      <th>company_profile</th>\n",
       "      <th>description</th>\n",
       "      <th>requirements</th>\n",
       "      <th>benifits</th>\n",
       "      <th>has_logo</th>\n",
       "      <th>has_question</th>\n",
       "    </tr>\n",
       "  </thead>\n",
       "  <tbody>\n",
       "    <tr>\n",
       "      <th>1</th>\n",
       "      <td>0</td>\n",
       "      <td>2</td>\n",
       "      <td>Customer Service - Cloud Video Production</td>\n",
       "      <td>90 seconds the worlds cloud video production s...</td>\n",
       "      <td>Organised - Focused - Vibrant - Awesome!Do you...</td>\n",
       "      <td>what we expect from you your key responsibilit...</td>\n",
       "      <td>what you will get from usthrough being part of...</td>\n",
       "      <td>1</td>\n",
       "      <td>0</td>\n",
       "    </tr>\n",
       "    <tr>\n",
       "      <th>3</th>\n",
       "      <td>0</td>\n",
       "      <td>4</td>\n",
       "      <td>Account Executive - Washington DC</td>\n",
       "      <td>our passion for improving quality of life thro...</td>\n",
       "      <td>THE COMPANY: ESRI â Environmental Systems Re...</td>\n",
       "      <td>education â bachelorâs or masterâs in gis ...</td>\n",
       "      <td>our culture is anything but corporateâwe hav...</td>\n",
       "      <td>1</td>\n",
       "      <td>0</td>\n",
       "    </tr>\n",
       "    <tr>\n",
       "      <th>4</th>\n",
       "      <td>0</td>\n",
       "      <td>5</td>\n",
       "      <td>Bill Review Manager</td>\n",
       "      <td>spotsource solutions llc is a global human cap...</td>\n",
       "      <td>JOB TITLE: Itemization Review ManagerLOCATION:...</td>\n",
       "      <td>qualifications rn license in the state of texa...</td>\n",
       "      <td>full benefits offered</td>\n",
       "      <td>1</td>\n",
       "      <td>1</td>\n",
       "    </tr>\n",
       "    <tr>\n",
       "      <th>6</th>\n",
       "      <td>0</td>\n",
       "      <td>7</td>\n",
       "      <td>Head of Content (m/f)</td>\n",
       "      <td>founded in 2009 theâ fonpit agâ rose with its ...</td>\n",
       "      <td>Your Responsibilities:Â Manage the English-spe...</td>\n",
       "      <td>your know how â â â â â â â â â â â â â â â â ...</td>\n",
       "      <td>your benefits â being part of a fast growing c...</td>\n",
       "      <td>1</td>\n",
       "      <td>1</td>\n",
       "    </tr>\n",
       "    <tr>\n",
       "      <th>7</th>\n",
       "      <td>0</td>\n",
       "      <td>8</td>\n",
       "      <td>Lead Guest Service Specialist</td>\n",
       "      <td>airenvyâs mission is to provide lucrative ye...</td>\n",
       "      <td>Who is Airenvy?Hey there! We are seasoned entr...</td>\n",
       "      <td>experience with crm software live chat and pho...</td>\n",
       "      <td>competitive pay â you ll be able to eat steak ...</td>\n",
       "      <td>1</td>\n",
       "      <td>1</td>\n",
       "    </tr>\n",
       "  </tbody>\n",
       "</table>\n",
       "</div>"
      ],
      "text/plain": [
       "   GT  jobid                                      title  \\\n",
       "1   0      2  Customer Service - Cloud Video Production   \n",
       "3   0      4          Account Executive - Washington DC   \n",
       "4   0      5                        Bill Review Manager   \n",
       "6   0      7                      Head of Content (m/f)   \n",
       "7   0      8           Lead Guest Service Specialist      \n",
       "\n",
       "                                     company_profile  \\\n",
       "1  90 seconds the worlds cloud video production s...   \n",
       "3  our passion for improving quality of life thro...   \n",
       "4  spotsource solutions llc is a global human cap...   \n",
       "6  founded in 2009 theâ fonpit agâ rose with its ...   \n",
       "7  airenvyâs mission is to provide lucrative ye...   \n",
       "\n",
       "                                         description  \\\n",
       "1  Organised - Focused - Vibrant - Awesome!Do you...   \n",
       "3  THE COMPANY: ESRI â Environmental Systems Re...   \n",
       "4  JOB TITLE: Itemization Review ManagerLOCATION:...   \n",
       "6  Your Responsibilities:Â Manage the English-spe...   \n",
       "7  Who is Airenvy?Hey there! We are seasoned entr...   \n",
       "\n",
       "                                        requirements  \\\n",
       "1  what we expect from you your key responsibilit...   \n",
       "3  education â bachelorâs or masterâs in gis ...   \n",
       "4  qualifications rn license in the state of texa...   \n",
       "6  your know how â â â â â â â â â â â â â â â â ...   \n",
       "7  experience with crm software live chat and pho...   \n",
       "\n",
       "                                            benifits  has_logo  has_question  \n",
       "1  what you will get from usthrough being part of...         1             0  \n",
       "3  our culture is anything but corporateâwe hav...         1             0  \n",
       "4                              full benefits offered         1             1  \n",
       "6  your benefits â being part of a fast growing c...         1             1  \n",
       "7  competitive pay â you ll be able to eat steak ...         1             1  "
      ]
     },
     "execution_count": 6,
     "metadata": {},
     "output_type": "execute_result"
    }
   ],
   "source": [
    "data.head()"
   ]
  },
  {
   "cell_type": "code",
   "execution_count": 7,
   "metadata": {},
   "outputs": [
    {
     "data": {
      "image/png": "[encoded data removed]",
      "text/plain": [
       "<matplotlib.figure.Figure at 0x11121c710>"
      ]
     },
     "metadata": {},
     "output_type": "display_data"
    }
   ],
   "source": [
    "# Check the dataset distribution\n",
    "data[\"GT\"].value_counts().plot(kind = 'pie', figsize = (6, 6), fontsize=14, autopct = '%1.1f%%', shadow = True)\n",
    "plt.ylabel(\"Fake vs Real\")\n",
    "plt.legend([\"Fake\", \"Real\"])\n",
    "plt.show()"
   ]
  },
  {
   "cell_type": "markdown",
   "metadata": {},
   "source": [
    "## Let's start from the easy one with only numeric values"
   ]
  },
  {
   "cell_type": "code",
   "execution_count": 8,
   "metadata": {
    "collapsed": true
   },
   "outputs": [],
   "source": [
    "# Get Ground Truth and combine two numeric features as one\n",
    "X = data.iloc[:,7:9].values\n",
    "y = data['GT'].values"
   ]
  },
  {
   "cell_type": "markdown",
   "metadata": {},
   "source": [
    "### Using Naive Bayes Classifier"
   ]
  },
  {
   "cell_type": "code",
   "execution_count": 9,
   "metadata": {
    "collapsed": true
   },
   "outputs": [],
   "source": [
    "X_train, X_test, y_train, y_test = train_test_split(X, y, test_size = 0.3 ,random_state = 10)"
   ]
  },
  {
   "cell_type": "code",
   "execution_count": 10,
   "metadata": {},
   "outputs": [
    {
     "data": {
      "text/plain": [
       "MultinomialNB(alpha=1.0, class_prior=None, fit_prior=True)"
      ]
     },
     "execution_count": 10,
     "metadata": {},
     "output_type": "execute_result"
    }
   ],
   "source": [
    "nbc = MultinomialNB()\n",
    "nbc.fit(X_train, y_train)"
   ]
  },
  {
   "cell_type": "code",
   "execution_count": 11,
   "metadata": {},
   "outputs": [],
   "source": [
    "predictions = nbc.predict(X_test)"
   ]
  },
  {
   "cell_type": "code",
   "execution_count": 12,
   "metadata": {},
   "outputs": [
    {
     "name": "stdout",
     "output_type": "stream",
     "text": [
      "             precision    recall  f1-score   support\n",
      "\n",
      "          0       0.98      1.00      0.99      2594\n",
      "          1       0.00      0.00      0.00        60\n",
      "\n",
      "avg / total       0.96      0.98      0.97      2654\n",
      "\n",
      "Confusion Matrix: \n",
      " [[2594    0]\n",
      " [  60    0]]\n",
      "\n",
      "Accuracy:  0.977392614921\n",
      "\n"
     ]
    }
   ],
   "source": [
    "print(classification_report(y_test ,predictions))\n",
    "print('Confusion Matrix: \\n',confusion_matrix(y_test ,predictions))\n",
    "print()\n",
    "numeric_NBC_acc = accuracy_score(y_test, predictions)\n",
    "print('Accuracy: ', numeric_NBC_acc)\n",
    "print()"
   ]
  },
  {
   "cell_type": "markdown",
   "metadata": {},
   "source": [
    "### Using LogisticRegression Classifier"
   ]
  },
  {
   "cell_type": "code",
   "execution_count": 13,
   "metadata": {},
   "outputs": [
    {
     "data": {
      "text/plain": [
       "LogisticRegression(C=1.0, class_weight=None, dual=False, fit_intercept=True,\n",
       "          intercept_scaling=1, max_iter=100, multi_class='ovr', n_jobs=1,\n",
       "          penalty='l2', random_state=None, solver='liblinear', tol=0.0001,\n",
       "          verbose=0, warm_start=False)"
      ]
     },
     "execution_count": 13,
     "metadata": {},
     "output_type": "execute_result"
    }
   ],
   "source": [
    "clf = LogisticRegression()\n",
    "clf.fit(X_train, y_train) "
   ]
  },
  {
   "cell_type": "code",
   "execution_count": 14,
   "metadata": {},
   "outputs": [],
   "source": [
    "predictions = clf.predict(X_test)"
   ]
  },
  {
   "cell_type": "code",
   "execution_count": 15,
   "metadata": {},
   "outputs": [
    {
     "name": "stdout",
     "output_type": "stream",
     "text": [
      "             precision    recall  f1-score   support\n",
      "\n",
      "          0       0.98      1.00      0.99      2594\n",
      "          1       0.00      0.00      0.00        60\n",
      "\n",
      "avg / total       0.96      0.98      0.97      2654\n",
      "\n",
      "Confusion Matrix: \n",
      " [[2594    0]\n",
      " [  60    0]]\n",
      "\n",
      "Accuracy:  0.977392614921\n",
      "\n"
     ]
    }
   ],
   "source": [
    "print(classification_report(y_test ,predictions))\n",
    "print('Confusion Matrix: \\n',confusion_matrix(y_test ,predictions))\n",
    "print()\n",
    "numeric_CLF_acc = accuracy_score(y_test, predictions)\n",
    "print('Accuracy: ', numeric_CLF_acc)\n",
    "print()"
   ]
  },
  {
   "cell_type": "markdown",
   "metadata": {},
   "source": [
    "## Now let's deal with text "
   ]
  },
  {
   "cell_type": "markdown",
   "metadata": {},
   "source": [
    "### Using Bag of Words"
   ]
  },
  {
   "cell_type": "markdown",
   "metadata": {},
   "source": [
    "#### Feature1: company_profile"
   ]
  },
  {
   "cell_type": "code",
   "execution_count": 16,
   "metadata": {
    "collapsed": true
   },
   "outputs": [],
   "source": [
    "X = data['company_profile']\n",
    "y = data['GT'].values"
   ]
  },
  {
   "cell_type": "code",
   "execution_count": 17,
   "metadata": {
    "collapsed": true
   },
   "outputs": [],
   "source": [
    "X_train, X_test, y_train, y_test = train_test_split(X, y, test_size = 0.3 ,random_state = 10)"
   ]
  },
  {
   "cell_type": "markdown",
   "metadata": {},
   "source": [
    "Using Naive Bayes Classifier"
   ]
  },
  {
   "cell_type": "code",
   "execution_count": 18,
   "metadata": {},
   "outputs": [
    {
     "data": {
      "text/plain": [
       "Pipeline(memory=None,\n",
       "     steps=[('bow', CountVectorizer(analyzer='word', binary=False, decode_error='strict',\n",
       "        dtype=<class 'numpy.int64'>, encoding='utf-8', input='content',\n",
       "        lowercase=True, max_df=1.0, max_features=None, min_df=1,\n",
       "        ngram_range=(1, 1), preprocessor=None, stop_words=None,\n",
       "        strip_accents=None, token_pattern='(?u)\\\\b\\\\w\\\\w+\\\\b',\n",
       "        tokenizer=None, vocabulary=None)), ('classifier', MultinomialNB(alpha=1.0, class_prior=None, fit_prior=True))])"
      ]
     },
     "execution_count": 18,
     "metadata": {},
     "output_type": "execute_result"
    }
   ],
   "source": [
    "# create pipeline\n",
    "pipeline = Pipeline([\n",
    "    ('bow', CountVectorizer()), \n",
    "    ('classifier', MultinomialNB()),\n",
    "])\n",
    "pipeline.fit(X_train,y_train)"
   ]
  },
  {
   "cell_type": "code",
   "execution_count": 19,
   "metadata": {
    "collapsed": true
   },
   "outputs": [],
   "source": [
    "predictions = pipeline.predict(X_test)"
   ]
  },
  {
   "cell_type": "code",
   "execution_count": 20,
   "metadata": {},
   "outputs": [
    {
     "name": "stdout",
     "output_type": "stream",
     "text": [
      "             precision    recall  f1-score   support\n",
      "\n",
      "          0       1.00      1.00      1.00      2594\n",
      "          1       0.82      0.85      0.84        60\n",
      "\n",
      "avg / total       0.99      0.99      0.99      2654\n",
      "\n",
      "Confusion Matrix: \n",
      " [[2583   11]\n",
      " [   9   51]]\n",
      "\n",
      "Accuracy:  0.992464204974\n",
      "\n"
     ]
    }
   ],
   "source": [
    "print(classification_report(y_test ,predictions))\n",
    "print('Confusion Matrix: \\n',confusion_matrix(y_test ,predictions))\n",
    "print()\n",
    "F1_nbc_acc = accuracy_score(y_test ,predictions)\n",
    "print('Accuracy: ', F1_nbc_acc)\n",
    "print()"
   ]
  },
  {
   "cell_type": "markdown",
   "metadata": {},
   "source": [
    "Using LogisticRegression Classifier"
   ]
  },
  {
   "cell_type": "code",
   "execution_count": 21,
   "metadata": {},
   "outputs": [
    {
     "data": {
      "text/plain": [
       "Pipeline(memory=None,\n",
       "     steps=[('bow', CountVectorizer(analyzer='word', binary=False, decode_error='strict',\n",
       "        dtype=<class 'numpy.int64'>, encoding='utf-8', input='content',\n",
       "        lowercase=True, max_df=1.0, max_features=None, min_df=1,\n",
       "        ngram_range=(1, 1), preprocessor=None, stop_words=None,\n",
       "        strip_...ty='l2', random_state=None, solver='liblinear', tol=0.0001,\n",
       "          verbose=0, warm_start=False))])"
      ]
     },
     "execution_count": 21,
     "metadata": {},
     "output_type": "execute_result"
    }
   ],
   "source": [
    "# create pipeline\n",
    "pipeline = Pipeline([\n",
    "    ('bow', CountVectorizer()), \n",
    "    ('classifier', LogisticRegression()),\n",
    "])\n",
    "pipeline.fit(X_train,y_train)"
   ]
  },
  {
   "cell_type": "code",
   "execution_count": 22,
   "metadata": {
    "collapsed": true
   },
   "outputs": [],
   "source": [
    "predictions = pipeline.predict(X_test)"
   ]
  },
  {
   "cell_type": "code",
   "execution_count": 23,
   "metadata": {},
   "outputs": [
    {
     "name": "stdout",
     "output_type": "stream",
     "text": [
      "             precision    recall  f1-score   support\n",
      "\n",
      "          0       1.00      1.00      1.00      2594\n",
      "          1       1.00      0.93      0.97        60\n",
      "\n",
      "avg / total       1.00      1.00      1.00      2654\n",
      "\n",
      "Confusion Matrix: \n",
      " [[2594    0]\n",
      " [   4   56]]\n",
      "\n",
      "Accuracy:  0.998492840995\n",
      "\n"
     ]
    }
   ],
   "source": [
    "print(classification_report(y_test ,predictions))\n",
    "print('Confusion Matrix: \\n',confusion_matrix(y_test ,predictions))\n",
    "print()\n",
    "F1_clf_acc = accuracy_score(y_test ,predictions)\n",
    "print('Accuracy: ', F1_clf_acc)\n",
    "print()"
   ]
  },
  {
   "cell_type": "markdown",
   "metadata": {},
   "source": [
    "#### Feature2: description"
   ]
  },
  {
   "cell_type": "code",
   "execution_count": 24,
   "metadata": {
    "collapsed": true
   },
   "outputs": [],
   "source": [
    "X = data['description']\n",
    "y = data['GT'].values"
   ]
  },
  {
   "cell_type": "code",
   "execution_count": 25,
   "metadata": {
    "collapsed": true
   },
   "outputs": [],
   "source": [
    "X_train, X_test, y_train, y_test = train_test_split(X, y, test_size = 0.3 ,random_state = 10)"
   ]
  },
  {
   "cell_type": "markdown",
   "metadata": {},
   "source": [
    "Using Naive Bayes Classifier"
   ]
  },
  {
   "cell_type": "code",
   "execution_count": 26,
   "metadata": {},
   "outputs": [
    {
     "data": {
      "text/plain": [
       "Pipeline(memory=None,\n",
       "     steps=[('bow', CountVectorizer(analyzer='word', binary=False, decode_error='strict',\n",
       "        dtype=<class 'numpy.int64'>, encoding='utf-8', input='content',\n",
       "        lowercase=True, max_df=1.0, max_features=None, min_df=1,\n",
       "        ngram_range=(1, 1), preprocessor=None, stop_words=None,\n",
       "        strip_accents=None, token_pattern='(?u)\\\\b\\\\w\\\\w+\\\\b',\n",
       "        tokenizer=None, vocabulary=None)), ('classifier', MultinomialNB(alpha=1.0, class_prior=None, fit_prior=True))])"
      ]
     },
     "execution_count": 26,
     "metadata": {},
     "output_type": "execute_result"
    }
   ],
   "source": [
    "# create pipeline\n",
    "pipeline = Pipeline([\n",
    "    ('bow', CountVectorizer()), \n",
    "    ('classifier', MultinomialNB()),\n",
    "])\n",
    "pipeline.fit(X_train,y_train)"
   ]
  },
  {
   "cell_type": "code",
   "execution_count": 27,
   "metadata": {
    "collapsed": true
   },
   "outputs": [],
   "source": [
    "predictions = pipeline.predict(X_test)"
   ]
  },
  {
   "cell_type": "code",
   "execution_count": 28,
   "metadata": {},
   "outputs": [
    {
     "name": "stdout",
     "output_type": "stream",
     "text": [
      "             precision    recall  f1-score   support\n",
      "\n",
      "          0       0.98      1.00      0.99      2594\n",
      "          1       0.50      0.20      0.29        60\n",
      "\n",
      "avg / total       0.97      0.98      0.97      2654\n",
      "\n",
      "Confusion Matrix: \n",
      " [[2582   12]\n",
      " [  48   12]]\n",
      "\n",
      "Accuracy:  0.977392614921\n",
      "\n"
     ]
    }
   ],
   "source": [
    "print(classification_report(y_test ,predictions))\n",
    "print('Confusion Matrix: \\n',confusion_matrix(y_test ,predictions))\n",
    "print()\n",
    "F2_nbc_acc = accuracy_score(y_test ,predictions)\n",
    "print('Accuracy: ', F2_nbc_acc)\n",
    "print()"
   ]
  },
  {
   "cell_type": "markdown",
   "metadata": {},
   "source": [
    "Using LogisticRegression Classifier"
   ]
  },
  {
   "cell_type": "code",
   "execution_count": 29,
   "metadata": {},
   "outputs": [
    {
     "data": {
      "text/plain": [
       "Pipeline(memory=None,\n",
       "     steps=[('bow', CountVectorizer(analyzer='word', binary=False, decode_error='strict',\n",
       "        dtype=<class 'numpy.int64'>, encoding='utf-8', input='content',\n",
       "        lowercase=True, max_df=1.0, max_features=None, min_df=1,\n",
       "        ngram_range=(1, 1), preprocessor=None, stop_words=None,\n",
       "        strip_...ty='l2', random_state=None, solver='liblinear', tol=0.0001,\n",
       "          verbose=0, warm_start=False))])"
      ]
     },
     "execution_count": 29,
     "metadata": {},
     "output_type": "execute_result"
    }
   ],
   "source": [
    "# create pipeline\n",
    "pipeline = Pipeline([\n",
    "    ('bow', CountVectorizer()), \n",
    "    ('classifier', LogisticRegression()),\n",
    "])\n",
    "pipeline.fit(X_train,y_train)"
   ]
  },
  {
   "cell_type": "code",
   "execution_count": 30,
   "metadata": {
    "collapsed": true
   },
   "outputs": [],
   "source": [
    "predictions = pipeline.predict(X_test)"
   ]
  },
  {
   "cell_type": "code",
   "execution_count": 31,
   "metadata": {},
   "outputs": [
    {
     "name": "stdout",
     "output_type": "stream",
     "text": [
      "             precision    recall  f1-score   support\n",
      "\n",
      "          0       0.99      1.00      0.99      2594\n",
      "          1       0.90      0.58      0.71        60\n",
      "\n",
      "avg / total       0.99      0.99      0.99      2654\n",
      "\n",
      "Confusion Matrix: \n",
      " [[2590    4]\n",
      " [  25   35]]\n",
      "\n",
      "Accuracy:  0.989073097212\n",
      "\n"
     ]
    }
   ],
   "source": [
    "print(classification_report(y_test ,predictions))\n",
    "print('Confusion Matrix: \\n',confusion_matrix(y_test ,predictions))\n",
    "print()\n",
    "F2_clf_acc = accuracy_score(y_test ,predictions)\n",
    "print('Accuracy: ', F2_clf_acc)\n",
    "print()"
   ]
  },
  {
   "cell_type": "markdown",
   "metadata": {},
   "source": [
    "#### Feature3: requirements"
   ]
  },
  {
   "cell_type": "code",
   "execution_count": 32,
   "metadata": {
    "collapsed": true
   },
   "outputs": [],
   "source": [
    "X = data['requirements']\n",
    "y = data['GT'].values"
   ]
  },
  {
   "cell_type": "code",
   "execution_count": 33,
   "metadata": {
    "collapsed": true
   },
   "outputs": [],
   "source": [
    "X_train, X_test, y_train, y_test = train_test_split(X, y, test_size = 0.3 ,random_state = 10)"
   ]
  },
  {
   "cell_type": "markdown",
   "metadata": {},
   "source": [
    "Using Naive Bayes Classifier"
   ]
  },
  {
   "cell_type": "code",
   "execution_count": 34,
   "metadata": {},
   "outputs": [
    {
     "data": {
      "text/plain": [
       "Pipeline(memory=None,\n",
       "     steps=[('bow', CountVectorizer(analyzer='word', binary=False, decode_error='strict',\n",
       "        dtype=<class 'numpy.int64'>, encoding='utf-8', input='content',\n",
       "        lowercase=True, max_df=1.0, max_features=None, min_df=1,\n",
       "        ngram_range=(1, 1), preprocessor=None, stop_words=None,\n",
       "        strip_accents=None, token_pattern='(?u)\\\\b\\\\w\\\\w+\\\\b',\n",
       "        tokenizer=None, vocabulary=None)), ('classifier', MultinomialNB(alpha=1.0, class_prior=None, fit_prior=True))])"
      ]
     },
     "execution_count": 34,
     "metadata": {},
     "output_type": "execute_result"
    }
   ],
   "source": [
    "# create pipeline\n",
    "pipeline = Pipeline([\n",
    "    ('bow', CountVectorizer()), \n",
    "    ('classifier', MultinomialNB()),\n",
    "])\n",
    "pipeline.fit(X_train,y_train)"
   ]
  },
  {
   "cell_type": "code",
   "execution_count": 35,
   "metadata": {
    "collapsed": true
   },
   "outputs": [],
   "source": [
    "predictions = pipeline.predict(X_test)"
   ]
  },
  {
   "cell_type": "code",
   "execution_count": 36,
   "metadata": {},
   "outputs": [
    {
     "name": "stdout",
     "output_type": "stream",
     "text": [
      "             precision    recall  f1-score   support\n",
      "\n",
      "          0       0.98      1.00      0.99      2594\n",
      "          1       0.38      0.08      0.14        60\n",
      "\n",
      "avg / total       0.97      0.98      0.97      2654\n",
      "\n",
      "Confusion Matrix: \n",
      " [[2586    8]\n",
      " [  55    5]]\n",
      "\n",
      "Accuracy:  0.976262245667\n",
      "\n"
     ]
    }
   ],
   "source": [
    "print(classification_report(y_test ,predictions))\n",
    "print('Confusion Matrix: \\n',confusion_matrix(y_test ,predictions))\n",
    "print()\n",
    "F3_nbc_acc = accuracy_score(y_test ,predictions)\n",
    "print('Accuracy: ', F3_nbc_acc)\n",
    "print()"
   ]
  },
  {
   "cell_type": "markdown",
   "metadata": {},
   "source": [
    "Using LogisticRegression Classifier"
   ]
  },
  {
   "cell_type": "code",
   "execution_count": 37,
   "metadata": {},
   "outputs": [
    {
     "data": {
      "text/plain": [
       "Pipeline(memory=None,\n",
       "     steps=[('bow', CountVectorizer(analyzer='word', binary=False, decode_error='strict',\n",
       "        dtype=<class 'numpy.int64'>, encoding='utf-8', input='content',\n",
       "        lowercase=True, max_df=1.0, max_features=None, min_df=1,\n",
       "        ngram_range=(1, 1), preprocessor=None, stop_words=None,\n",
       "        strip_...ty='l2', random_state=None, solver='liblinear', tol=0.0001,\n",
       "          verbose=0, warm_start=False))])"
      ]
     },
     "execution_count": 37,
     "metadata": {},
     "output_type": "execute_result"
    }
   ],
   "source": [
    "# create pipeline\n",
    "pipeline = Pipeline([\n",
    "    ('bow', CountVectorizer()), \n",
    "    ('classifier', LogisticRegression()),\n",
    "])\n",
    "pipeline.fit(X_train,y_train)"
   ]
  },
  {
   "cell_type": "code",
   "execution_count": 38,
   "metadata": {
    "collapsed": true
   },
   "outputs": [],
   "source": [
    "predictions = pipeline.predict(X_test)"
   ]
  },
  {
   "cell_type": "code",
   "execution_count": 39,
   "metadata": {},
   "outputs": [
    {
     "name": "stdout",
     "output_type": "stream",
     "text": [
      "             precision    recall  f1-score   support\n",
      "\n",
      "          0       0.99      1.00      0.99      2594\n",
      "          1       0.89      0.53      0.67        60\n",
      "\n",
      "avg / total       0.99      0.99      0.99      2654\n",
      "\n",
      "Confusion Matrix: \n",
      " [[2590    4]\n",
      " [  28   32]]\n",
      "\n",
      "Accuracy:  0.987942727958\n",
      "\n"
     ]
    }
   ],
   "source": [
    "print(classification_report(y_test ,predictions))\n",
    "print('Confusion Matrix: \\n',confusion_matrix(y_test ,predictions))\n",
    "print()\n",
    "F3_clf_acc = accuracy_score(y_test ,predictions)\n",
    "print('Accuracy: ', F3_clf_acc)\n",
    "print()"
   ]
  },
  {
   "cell_type": "markdown",
   "metadata": {},
   "source": [
    "#### Feature4: benefits"
   ]
  },
  {
   "cell_type": "code",
   "execution_count": 40,
   "metadata": {
    "collapsed": true
   },
   "outputs": [],
   "source": [
    "X = data['benifits']\n",
    "y = data['GT'].values"
   ]
  },
  {
   "cell_type": "code",
   "execution_count": 41,
   "metadata": {
    "collapsed": true
   },
   "outputs": [],
   "source": [
    "X_train, X_test, y_train, y_test = train_test_split(X, y, test_size = 0.3 ,random_state = 10)"
   ]
  },
  {
   "cell_type": "markdown",
   "metadata": {},
   "source": [
    "Using Naive Bayes Classifer"
   ]
  },
  {
   "cell_type": "code",
   "execution_count": 42,
   "metadata": {},
   "outputs": [
    {
     "data": {
      "text/plain": [
       "Pipeline(memory=None,\n",
       "     steps=[('bow', CountVectorizer(analyzer='word', binary=False, decode_error='strict',\n",
       "        dtype=<class 'numpy.int64'>, encoding='utf-8', input='content',\n",
       "        lowercase=True, max_df=1.0, max_features=None, min_df=1,\n",
       "        ngram_range=(1, 1), preprocessor=None, stop_words=None,\n",
       "        strip_accents=None, token_pattern='(?u)\\\\b\\\\w\\\\w+\\\\b',\n",
       "        tokenizer=None, vocabulary=None)), ('classifier', MultinomialNB(alpha=1.0, class_prior=None, fit_prior=True))])"
      ]
     },
     "execution_count": 42,
     "metadata": {},
     "output_type": "execute_result"
    }
   ],
   "source": [
    "# create pipeline\n",
    "pipeline = Pipeline([\n",
    "    ('bow', CountVectorizer()), \n",
    "    ('classifier', MultinomialNB()),\n",
    "])\n",
    "pipeline.fit(X_train,y_train)"
   ]
  },
  {
   "cell_type": "code",
   "execution_count": 43,
   "metadata": {
    "collapsed": true
   },
   "outputs": [],
   "source": [
    "predictions = pipeline.predict(X_test)"
   ]
  },
  {
   "cell_type": "code",
   "execution_count": 44,
   "metadata": {},
   "outputs": [
    {
     "name": "stdout",
     "output_type": "stream",
     "text": [
      "             precision    recall  f1-score   support\n",
      "\n",
      "          0       0.99      1.00      0.99      2594\n",
      "          1       0.69      0.40      0.51        60\n",
      "\n",
      "avg / total       0.98      0.98      0.98      2654\n",
      "\n",
      "Confusion Matrix: \n",
      " [[2583   11]\n",
      " [  36   24]]\n",
      "\n",
      "Accuracy:  0.982290881688\n",
      "\n"
     ]
    }
   ],
   "source": [
    "print(classification_report(y_test ,predictions))\n",
    "print('Confusion Matrix: \\n',confusion_matrix(y_test ,predictions))\n",
    "print()\n",
    "F4_nbc_acc = accuracy_score(y_test ,predictions)\n",
    "print('Accuracy: ', F4_nbc_acc)\n",
    "print()"
   ]
  },
  {
   "cell_type": "markdown",
   "metadata": {},
   "source": [
    "Using LogisticRegression Classifer"
   ]
  },
  {
   "cell_type": "code",
   "execution_count": 45,
   "metadata": {},
   "outputs": [
    {
     "data": {
      "text/plain": [
       "Pipeline(memory=None,\n",
       "     steps=[('bow', CountVectorizer(analyzer='word', binary=False, decode_error='strict',\n",
       "        dtype=<class 'numpy.int64'>, encoding='utf-8', input='content',\n",
       "        lowercase=True, max_df=1.0, max_features=None, min_df=1,\n",
       "        ngram_range=(1, 1), preprocessor=None, stop_words=None,\n",
       "        strip_...ty='l2', random_state=None, solver='liblinear', tol=0.0001,\n",
       "          verbose=0, warm_start=False))])"
      ]
     },
     "execution_count": 45,
     "metadata": {},
     "output_type": "execute_result"
    }
   ],
   "source": [
    "# create pipeline\n",
    "pipeline = Pipeline([\n",
    "    ('bow', CountVectorizer()), \n",
    "    ('classifier', LogisticRegression()),\n",
    "])\n",
    "pipeline.fit(X_train,y_train)"
   ]
  },
  {
   "cell_type": "code",
   "execution_count": 46,
   "metadata": {
    "collapsed": true
   },
   "outputs": [],
   "source": [
    "predictions = pipeline.predict(X_test)"
   ]
  },
  {
   "cell_type": "code",
   "execution_count": 47,
   "metadata": {},
   "outputs": [
    {
     "name": "stdout",
     "output_type": "stream",
     "text": [
      "             precision    recall  f1-score   support\n",
      "\n",
      "          0       0.99      1.00      1.00      2594\n",
      "          1       0.93      0.62      0.74        60\n",
      "\n",
      "avg / total       0.99      0.99      0.99      2654\n",
      "\n",
      "Confusion Matrix: \n",
      " [[2591    3]\n",
      " [  23   37]]\n",
      "\n",
      "Accuracy:  0.990203466466\n",
      "\n"
     ]
    }
   ],
   "source": [
    "print(classification_report(y_test ,predictions))\n",
    "print('Confusion Matrix: \\n',confusion_matrix(y_test ,predictions))\n",
    "print()\n",
    "F4_clf_acc = accuracy_score(y_test ,predictions)\n",
    "print('Accuracy: ', F4_clf_acc)\n",
    "print()"
   ]
  },
  {
   "cell_type": "markdown",
   "metadata": {},
   "source": [
    "#### Results "
   ]
  },
  {
   "cell_type": "code",
   "execution_count": 48,
   "metadata": {
    "collapsed": true
   },
   "outputs": [],
   "source": [
    "feature = ['company_profile', 'description', 'requirements', 'benefits', 'numeric_val']\n",
    "nbc_accuracy = [F1_nbc_acc, F2_nbc_acc, F3_nbc_acc, F4_nbc_acc, numeric_NBC_acc]\n",
    "clf_accuracy = [F1_clf_acc, F2_clf_acc, F3_clf_acc, F4_clf_acc, numeric_CLF_acc]"
   ]
  },
  {
   "cell_type": "code",
   "execution_count": 49,
   "metadata": {},
   "outputs": [
    {
     "name": "stdout",
     "output_type": "stream",
     "text": [
      "+-----------------+----------------------+-----------------------------+\n",
      "|     Feature     | Naive Bayes Accuracy | LogisticRegression Accuracy |\n",
      "+-----------------+----------------------+-----------------------------+\n",
      "|   numeric_val   |    0.977392614921    |        0.977392614921       |\n",
      "| company_profile |    0.992464204974    |        0.998492840995       |\n",
      "|   description   |    0.977392614921    |        0.989073097212       |\n",
      "|   requirements  |    0.976262245667    |        0.987942727958       |\n",
      "|     benefits    |    0.982290881688    |        0.990203466466       |\n",
      "+-----------------+----------------------+-----------------------------+\n"
     ]
    }
   ],
   "source": [
    "result_table = PrettyTable()\n",
    "result_table.field_names = ['Feature','Naive Bayes Accuracy', 'LogisticRegression Accuracy']\n",
    "result_table.add_row([\"numeric_val\",numeric_NBC_acc, numeric_CLF_acc])\n",
    "result_table.add_row([\"company_profile\",F1_nbc_acc, F1_clf_acc])\n",
    "result_table.add_row([\"description\",F2_nbc_acc, F2_clf_acc])\n",
    "result_table.add_row([\"requirements\",F3_nbc_acc, F3_clf_acc])\n",
    "result_table.add_row([\"benefits\",F4_nbc_acc, F4_clf_acc])\n",
    "print(result_table)"
   ]
  },
  {
   "cell_type": "code",
   "execution_count": 50,
   "metadata": {},
   "outputs": [
    {
     "data": {
      "image/png": "[encoded data removed]",
      "text/plain": [
       "<matplotlib.figure.Figure at 0x1126daa90>"
      ]
     },
     "metadata": {},
     "output_type": "display_data"
    }
   ],
   "source": [
    "plt.title(\"Results Comparison\",fontsize=24)\n",
    "plt.xlabel(\"Features\",fontsize=14)\n",
    "plt.ylabel(\"Accuracy Rate\",fontsize=14)\n",
    "plt.tick_params(axis='both',labelsize=10)\n",
    "plt.scatter(feature, nbc_accuracy, s=30, c=\"red\", marker='v')\n",
    "plt.scatter(feature, clf_accuracy, s=30, c='blue', marker='o' )\n",
    "plt.legend(['Naive Bayes','LogisticRegression'])\n",
    "plt.show()"
   ]
  },
  {
   "cell_type": "markdown",
   "metadata": {},
   "source": [
    "## Summary of Results"
   ]
  },
  {
   "cell_type": "markdown",
   "metadata": {},
   "source": [
    "At the begining of this project, I tried to load the dataset with the 'utf-8' encoding format but failed. Then I read the dataset with 'latin-1' encoding format successfully. However, many entries were not read and the results were NaN. Hence, I droped those empty data so that they won't affect the accuracy of machine learning algorithms. After that, I cleaned the dataset for the machine learning part."
   ]
  },
  {
   "cell_type": "markdown",
   "metadata": {},
   "source": [
    "For this project, I mainly used two machine learning algorithms. One is Naive Bayes Classifier and the other is LogisticRegression Classifier. I considered two numeric columns as one feature, and each of the remaining columns is one feature. Thus, we got ten accuracy results shown in the table and image above. "
   ]
  },
  {
   "cell_type": "markdown",
   "metadata": {},
   "source": [
    "From them, we find that the average performance of LogisticRegression method is better than Naive Bayes method. And when we choose 'company profile' as the feature, it yeilds the best accuracy which is 99.8%. "
   ]
  }
 ],
 "metadata": {
  "kernelspec": {
   "display_name": "Python 3",
   "language": "python",
   "name": "python3"
  },
  "language_info": {
   "codemirror_mode": {
    "name": "ipython",
    "version": 3
   },
   "file_extension": ".py",
   "mimetype": "text/x-python",
   "name": "python",
   "nbconvert_exporter": "python",
   "pygments_lexer": "ipython3",
   "version": "3.6.3"
  }
 },
 "nbformat": 4,
 "nbformat_minor": 2
}