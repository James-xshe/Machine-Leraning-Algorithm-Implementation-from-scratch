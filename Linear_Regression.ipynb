{
 "cells": [
  {
   "cell_type": "code",
   "execution_count": 1,
   "metadata": {
    "collapsed": true
   },
   "outputs": [],
   "source": [
    "# import libraries\n",
    "from sklearn.datasets import load_boston\n",
    "import pandas as pd\n",
    "import numpy as np\n",
    "from math import sqrt\n",
    "import matplotlib.pyplot as plt"
   ]
  },
  {
   "cell_type": "code",
   "execution_count": 2,
   "metadata": {
    "collapsed": true
   },
   "outputs": [],
   "source": [
    "# load dataset\n",
    "dataset = load_boston()"
   ]
  },
  {
   "cell_type": "code",
   "execution_count": 3,
   "metadata": {
    "collapsed": true
   },
   "outputs": [],
   "source": [
    "# process dataset\n",
    "feature = pd.DataFrame(dataset.data,columns=dataset.feature_names)\n",
    "target = dataset.target"
   ]
  },
  {
   "cell_type": "code",
   "execution_count": 4,
   "metadata": {},
   "outputs": [
    {
     "data": {
      "text/html": [
       "<div>\n",
       "<style>\n",
       "    .dataframe thead tr:only-child th {\n",
       "        text-align: right;\n",
       "    }\n",
       "\n",
       "    .dataframe thead th {\n",
       "        text-align: left;\n",
       "    }\n",
       "\n",
       "    .dataframe tbody tr th {\n",
       "        vertical-align: top;\n",
       "    }\n",
       "</style>\n",
       "<table border=\"1\" class=\"dataframe\">\n",
       "  <thead>\n",
       "    <tr style=\"text-align: right;\">\n",
       "      <th></th>\n",
       "      <th>RM</th>\n",
       "      <th>AGE</th>\n",
       "      <th>LSTAT</th>\n",
       "    </tr>\n",
       "  </thead>\n",
       "  <tbody>\n",
       "    <tr>\n",
       "      <th>0</th>\n",
       "      <td>6.575</td>\n",
       "      <td>65.2</td>\n",
       "      <td>4.98</td>\n",
       "    </tr>\n",
       "    <tr>\n",
       "      <th>1</th>\n",
       "      <td>6.421</td>\n",
       "      <td>78.9</td>\n",
       "      <td>9.14</td>\n",
       "    </tr>\n",
       "    <tr>\n",
       "      <th>2</th>\n",
       "      <td>7.185</td>\n",
       "      <td>61.1</td>\n",
       "      <td>4.03</td>\n",
       "    </tr>\n",
       "    <tr>\n",
       "      <th>3</th>\n",
       "      <td>6.998</td>\n",
       "      <td>45.8</td>\n",
       "      <td>2.94</td>\n",
       "    </tr>\n",
       "    <tr>\n",
       "      <th>4</th>\n",
       "      <td>7.147</td>\n",
       "      <td>54.2</td>\n",
       "      <td>5.33</td>\n",
       "    </tr>\n",
       "  </tbody>\n",
       "</table>\n",
       "</div>"
      ],
      "text/plain": [
       "      RM   AGE  LSTAT\n",
       "0  6.575  65.2   4.98\n",
       "1  6.421  78.9   9.14\n",
       "2  7.185  61.1   4.03\n",
       "3  6.998  45.8   2.94\n",
       "4  7.147  54.2   5.33"
      ]
     },
     "execution_count": 4,
     "metadata": {},
     "output_type": "execute_result"
    }
   ],
   "source": [
    "feature.drop(['CRIM','ZN','INDUS','CHAS','NOX','DIS','RAD','TAX','PTRATIO','B'],axis=1, inplace=True)\n",
    "feature.head(5)"
   ]
  },
  {
   "cell_type": "code",
   "execution_count": 5,
   "metadata": {},
   "outputs": [
    {
     "data": {
      "text/plain": [
       "(506, 3)"
      ]
     },
     "execution_count": 5,
     "metadata": {},
     "output_type": "execute_result"
    }
   ],
   "source": [
    "feature.shape"
   ]
  },
  {
   "cell_type": "code",
   "execution_count": 6,
   "metadata": {},
   "outputs": [
    {
     "data": {
      "text/plain": [
       "(506,)"
      ]
     },
     "execution_count": 6,
     "metadata": {},
     "output_type": "execute_result"
    }
   ],
   "source": [
    "target.shape"
   ]
  },
  {
   "cell_type": "code",
   "execution_count": 7,
   "metadata": {},
   "outputs": [
    {
     "data": {
      "text/html": [
       "<div>\n",
       "<style>\n",
       "    .dataframe thead tr:only-child th {\n",
       "        text-align: right;\n",
       "    }\n",
       "\n",
       "    .dataframe thead th {\n",
       "        text-align: left;\n",
       "    }\n",
       "\n",
       "    .dataframe tbody tr th {\n",
       "        vertical-align: top;\n",
       "    }\n",
       "</style>\n",
       "<table border=\"1\" class=\"dataframe\">\n",
       "  <thead>\n",
       "    <tr style=\"text-align: right;\">\n",
       "      <th></th>\n",
       "      <th>RM</th>\n",
       "      <th>AGE</th>\n",
       "      <th>LSTAT</th>\n",
       "    </tr>\n",
       "  </thead>\n",
       "  <tbody>\n",
       "    <tr>\n",
       "      <th>0</th>\n",
       "      <td>0.413672</td>\n",
       "      <td>-0.120013</td>\n",
       "      <td>-1.075562</td>\n",
       "    </tr>\n",
       "    <tr>\n",
       "      <th>1</th>\n",
       "      <td>0.194274</td>\n",
       "      <td>0.367166</td>\n",
       "      <td>-0.492439</td>\n",
       "    </tr>\n",
       "    <tr>\n",
       "      <th>2</th>\n",
       "      <td>1.282714</td>\n",
       "      <td>-0.265812</td>\n",
       "      <td>-1.208727</td>\n",
       "    </tr>\n",
       "    <tr>\n",
       "      <th>3</th>\n",
       "      <td>1.016303</td>\n",
       "      <td>-0.809889</td>\n",
       "      <td>-1.361517</td>\n",
       "    </tr>\n",
       "    <tr>\n",
       "      <th>4</th>\n",
       "      <td>1.228577</td>\n",
       "      <td>-0.511180</td>\n",
       "      <td>-1.026501</td>\n",
       "    </tr>\n",
       "  </tbody>\n",
       "</table>\n",
       "</div>"
      ],
      "text/plain": [
       "         RM       AGE     LSTAT\n",
       "0  0.413672 -0.120013 -1.075562\n",
       "1  0.194274  0.367166 -0.492439\n",
       "2  1.282714 -0.265812 -1.208727\n",
       "3  1.016303 -0.809889 -1.361517\n",
       "4  1.228577 -0.511180 -1.026501"
      ]
     },
     "execution_count": 7,
     "metadata": {},
     "output_type": "execute_result"
    }
   ],
   "source": [
    "## feature scaling for fast converge\n",
    "from sklearn.preprocessing import StandardScaler\n",
    "scaler = StandardScaler()\n",
    "feature_scale = scaler.fit_transform(feature)\n",
    "Std_feature = pd.DataFrame(feature_scale,columns=['RM',\"AGE\",\"LSTAT\"])\n",
    "Std_feature.head()"
   ]
  },
  {
   "cell_type": "code",
   "execution_count": 8,
   "metadata": {},
   "outputs": [
    {
     "name": "stdout",
     "output_type": "stream",
     "text": [
      "length of training data: 354\n",
      "length of testing data: 152\n",
      "total samples: 506\n"
     ]
    }
   ],
   "source": [
    "#split dataset to training data and test data\n",
    "from sklearn.model_selection import train_test_split\n",
    "X_train, X_test, y_train, y_test = train_test_split(feature_scale, target, test_size = 0.3, random_state=1)\n",
    "print(\"length of training data:\",len(X_train))\n",
    "print(\"length of testing data:\",len(X_test))\n",
    "print(\"total samples:\",len(X_train) + len(X_test) )"
   ]
  },
  {
   "cell_type": "code",
   "execution_count": 9,
   "metadata": {},
   "outputs": [
    {
     "name": "stdout",
     "output_type": "stream",
     "text": [
      "[[-0.47816444 -0.24091936 -0.6157923 ]\n",
      " [-0.45394524  0.88279471  0.25048169]\n",
      " [ 0.72567214  1.0748218   1.20366341]\n",
      " [ 0.44216506 -1.66334224 -1.168077  ]\n",
      " [-3.88024936  0.68721157 -0.77559041]]\n"
     ]
    }
   ],
   "source": [
    "print(X_train[:5])"
   ]
  },
  {
   "cell_type": "code",
   "execution_count": 10,
   "metadata": {
    "collapsed": true
   },
   "outputs": [],
   "source": [
    "# gradient descent implementation\n",
    "def linear_regression(train_data, test_data, w0=0, w1=0, w2=0, w3=0, max_iter=300, eta=0.01):\n",
    "    N = len(train_data)\n",
    "    J = []\n",
    "    I = []\n",
    "    for i in range(0, max_iter):\n",
    "        y_hat = w0 + np.dot(train_data[:,0],w1) + np.dot(train_data[:,1],w2) + np.dot(train_data[:,2],w3)\n",
    "        error = test_data - y_hat\n",
    "        #print(error)\n",
    "        error = error.reshape(error.shape[0],1)\n",
    "        w1 = float(w1 + eta/N * error.T.dot(train_data[:,0]))\n",
    "        w2 = float(w2 + eta/N * error.T.dot(train_data[:,1]))\n",
    "        w3 = float(w3 + eta/N * error.T.dot(train_data[:,2]))\n",
    "        w0 = float(w0 + eta/N * error.sum())\n",
    "        result = np.array([w0, w1, w2, w3])\n",
    "        J.append(1/(2*N) * (error**2).sum())\n",
    "        I.append(i+1)\n",
    "    return result, J, I"
   ]
  },
  {
   "cell_type": "code",
   "execution_count": 11,
   "metadata": {
    "collapsed": true
   },
   "outputs": [],
   "source": [
    "# final parameters array, cost function list, and iteration list\n",
    "result, J, I = linear_regression(X_train, y_train)"
   ]
  },
  {
   "cell_type": "code",
   "execution_count": 12,
   "metadata": {},
   "outputs": [
    {
     "name": "stdout",
     "output_type": "stream",
     "text": [
      "290.128545198\n"
     ]
    }
   ],
   "source": [
    "print(J[0])"
   ]
  },
  {
   "cell_type": "code",
   "execution_count": 13,
   "metadata": {},
   "outputs": [
    {
     "name": "stdout",
     "output_type": "stream",
     "text": [
      "300\n"
     ]
    }
   ],
   "source": [
    "print(len(I))"
   ]
  },
  {
   "cell_type": "code",
   "execution_count": 14,
   "metadata": {},
   "outputs": [
    {
     "data": {
      "image/png": "[encoded data removed]",
      "text/plain": [
       "<matplotlib.figure.Figure at 0x10e38beb8>"
      ]
     },
     "metadata": {},
     "output_type": "display_data"
    }
   ],
   "source": [
    "# plot cost function vs iteration\n",
    "plt.title(\"Cost func vs Iter\",fontsize=24)\n",
    "plt.xlabel(\"Iteration\",fontsize=14)\n",
    "plt.ylabel(\"Cost Function\",fontsize=14)\n",
    "plt.xlim(0, len(I))\n",
    "plt.ylim(0, 500)\n",
    "plt.plot(J,I)\n",
    "plt.show()"
   ]
  },
  {
   "cell_type": "code",
   "execution_count": 15,
   "metadata": {},
   "outputs": [
    {
     "name": "stdout",
     "output_type": "stream",
     "text": [
      "[ 21.52061592   3.10406642  -0.68372253  -3.97133458]\n"
     ]
    }
   ],
   "source": [
    "# final w0, w1, w2, w3\n",
    "print(result)"
   ]
  },
  {
   "cell_type": "code",
   "execution_count": 16,
   "metadata": {
    "collapsed": true
   },
   "outputs": [],
   "source": [
    "result = result.reshape(result.shape[0],1)"
   ]
  },
  {
   "cell_type": "code",
   "execution_count": 17,
   "metadata": {
    "collapsed": true
   },
   "outputs": [],
   "source": [
    "# add 1 to the first column to compute y_pred\n",
    "b = np.ones(len(X_test))\n",
    "X_test = np.insert(X_test, 0, values=b, axis=1)"
   ]
  },
  {
   "cell_type": "code",
   "execution_count": 18,
   "metadata": {},
   "outputs": [
    {
     "name": "stdout",
     "output_type": "stream",
     "text": [
      "[[ 1.          0.80402837  0.0613455  -0.71811916]\n",
      " [ 1.          0.58605559 -0.43294645 -0.76717998]\n",
      " [ 1.         -0.36276709  0.60186619  0.86163938]\n",
      " [ 1.         -0.57931521 -1.67756646 -0.6382201 ]\n",
      " [ 1.         -1.31443908  0.98236431 -0.34525689]]\n"
     ]
    }
   ],
   "source": [
    "print(X_test[:5])"
   ]
  },
  {
   "cell_type": "code",
   "execution_count": 19,
   "metadata": {},
   "outputs": [
    {
     "name": "stdout",
     "output_type": "stream",
     "text": [
      "First ten predicted values:\n",
      "26.8263215102\n",
      "26.6825150196\n",
      "16.5611950338\n",
      "23.4039585715\n",
      "18.1399757221\n",
      "22.0473905676\n",
      "28.5735540565\n",
      "19.6008417099\n",
      "16.4999116283\n",
      "24.3054863411\n"
     ]
    }
   ],
   "source": [
    "# compute y_pred\n",
    "y_pred = []\n",
    "for i in range(0, len(X_test)):\n",
    "    y_pred.append(float(result.T.dot(X_test[i])))\n",
    "y_pred = np.array(y_pred)\n",
    "print('First ten predicted values:')\n",
    "for i in range(0,10): \n",
    "    print(y_pred[i])"
   ]
  },
  {
   "cell_type": "code",
   "execution_count": 20,
   "metadata": {},
   "outputs": [
    {
     "data": {
      "image/png": "[encoded data removed]",
      "text/plain": [
       "<matplotlib.figure.Figure at 0x1133e4630>"
      ]
     },
     "metadata": {},
     "output_type": "display_data"
    }
   ],
   "source": [
    "\n",
    "# plot y vs y_pred, blue line is y and organge line is y_pred\n",
    "plt.title(\"y vs y_pred\",fontsize=24)\n",
    "plt.xlabel(\"N\",fontsize=14)\n",
    "plt.ylabel(\"y\",fontsize=14)\n",
    "plt.xlim(0, 152)\n",
    "plt.ylim(0,55)\n",
    "plt.plot(y_test)\n",
    "plt.plot(y_pred)\n",
    "plt.show()"
   ]
  },
  {
   "cell_type": "code",
   "execution_count": 21,
   "metadata": {
    "collapsed": true
   },
   "outputs": [],
   "source": [
    "# performance evaluation using RMSE\n",
    "def compute_RMSE(y, y_pred):\n",
    "        return sqrt(1/len(y) * ((y - y_pred)**2).sum())"
   ]
  },
  {
   "cell_type": "code",
   "execution_count": 22,
   "metadata": {},
   "outputs": [
    {
     "name": "stdout",
     "output_type": "stream",
     "text": [
      "5.506609894983426\n"
     ]
    }
   ],
   "source": [
    "rmse = compute_RMSE(y_test, y_pred)\n",
    "print(rmse)"
   ]
  }
 ],
 "metadata": {
  "kernelspec": {
   "display_name": "Python 3",
   "language": "python",
   "name": "python3"
  },
  "language_info": {
   "codemirror_mode": {
    "name": "ipython",
    "version": 3
   },
   "file_extension": ".py",
   "mimetype": "text/x-python",
   "name": "python",
   "nbconvert_exporter": "python",
   "pygments_lexer": "ipython3",
   "version": "3.6.3"
  }
 },
 "nbformat": 4,
 "nbformat_minor": 2
}