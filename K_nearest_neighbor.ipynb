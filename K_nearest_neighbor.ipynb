{
 "cells": [
  {
   "cell_type": "code",
   "execution_count": 1,
   "metadata": {
    "collapsed": true
   },
   "outputs": [],
   "source": [
    "import pandas as pd\n",
    "import numpy as np\n",
    "from math import sqrt"
   ]
  },
  {
   "cell_type": "code",
   "execution_count": 2,
   "metadata": {},
   "outputs": [],
   "source": [
    "from sklearn import datasets\n",
    "iris = datasets.load_iris()"
   ]
  },
  {
   "cell_type": "code",
   "execution_count": 3,
   "metadata": {
    "collapsed": true
   },
   "outputs": [],
   "source": [
    "iris_data = iris.data\n",
    "iris_target = iris.target"
   ]
  },
  {
   "cell_type": "code",
   "execution_count": 4,
   "metadata": {},
   "outputs": [
    {
     "name": "stdout",
     "output_type": "stream",
     "text": [
      "[[ 5.1  3.5  1.4  0.2]\n",
      " [ 4.9  3.   1.4  0.2]\n",
      " [ 4.7  3.2  1.3  0.2]\n",
      " [ 4.6  3.1  1.5  0.2]\n",
      " [ 5.   3.6  1.4  0.2]]\n"
     ]
    }
   ],
   "source": [
    "print(iris_data[:5])"
   ]
  },
  {
   "cell_type": "code",
   "execution_count": 5,
   "metadata": {
    "collapsed": true
   },
   "outputs": [],
   "source": [
    "# find min and max values in each column\n",
    "def minmax(dataset):\n",
    "    minmax = []\n",
    "    for i in range(len(dataset[0])):\n",
    "        col_values = [row[i] for row in dataset]\n",
    "        value_min = min(col_values)\n",
    "        value_max = max(col_values)\n",
    "        minmax.append([value_min, value_max])\n",
    "    return minmax"
   ]
  },
  {
   "cell_type": "code",
   "execution_count": 6,
   "metadata": {
    "collapsed": true
   },
   "outputs": [],
   "source": [
    "minmax = minmax(iris_data)"
   ]
  },
  {
   "cell_type": "code",
   "execution_count": 7,
   "metadata": {
    "collapsed": true
   },
   "outputs": [],
   "source": [
    "# nomalize dataset\n",
    "def normalize_dataset(dataset, minmax):\n",
    "    for row in dataset:\n",
    "        for i in range(len(row)):\n",
    "            row[i] = (row[i] - minmax[i][0]) / (minmax[i][1] - minmax[i][0])"
   ]
  },
  {
   "cell_type": "code",
   "execution_count": 8,
   "metadata": {
    "collapsed": true
   },
   "outputs": [],
   "source": [
    "# from sklearn.preprocessing import MinMaxScaler\n",
    "# scalar = MinMaxScaler()\n",
    "# iris_data = scalar.fit_transform(iris.data)\n",
    "normalize_dataset(iris_data, minmax)"
   ]
  },
  {
   "cell_type": "code",
   "execution_count": 9,
   "metadata": {},
   "outputs": [
    {
     "name": "stdout",
     "output_type": "stream",
     "text": [
      "[[ 0.22222222  0.625       0.06779661  0.04166667]\n",
      " [ 0.16666667  0.41666667  0.06779661  0.04166667]\n",
      " [ 0.11111111  0.5         0.05084746  0.04166667]\n",
      " [ 0.08333333  0.45833333  0.08474576  0.04166667]\n",
      " [ 0.19444444  0.66666667  0.06779661  0.04166667]\n",
      " [ 0.30555556  0.79166667  0.11864407  0.125     ]\n",
      " [ 0.08333333  0.58333333  0.06779661  0.08333333]\n",
      " [ 0.19444444  0.58333333  0.08474576  0.04166667]\n",
      " [ 0.02777778  0.375       0.06779661  0.04166667]\n",
      " [ 0.16666667  0.45833333  0.08474576  0.        ]\n",
      " [ 0.30555556  0.70833333  0.08474576  0.04166667]\n",
      " [ 0.13888889  0.58333333  0.10169492  0.04166667]\n",
      " [ 0.13888889  0.41666667  0.06779661  0.        ]\n",
      " [ 0.          0.41666667  0.01694915  0.        ]\n",
      " [ 0.41666667  0.83333333  0.03389831  0.04166667]\n",
      " [ 0.38888889  1.          0.08474576  0.125     ]\n",
      " [ 0.30555556  0.79166667  0.05084746  0.125     ]\n",
      " [ 0.22222222  0.625       0.06779661  0.08333333]\n",
      " [ 0.38888889  0.75        0.11864407  0.08333333]\n",
      " [ 0.22222222  0.75        0.08474576  0.08333333]\n",
      " [ 0.30555556  0.58333333  0.11864407  0.04166667]\n",
      " [ 0.22222222  0.70833333  0.08474576  0.125     ]\n",
      " [ 0.08333333  0.66666667  0.          0.04166667]\n",
      " [ 0.22222222  0.54166667  0.11864407  0.16666667]\n",
      " [ 0.13888889  0.58333333  0.15254237  0.04166667]\n",
      " [ 0.19444444  0.41666667  0.10169492  0.04166667]\n",
      " [ 0.19444444  0.58333333  0.10169492  0.125     ]\n",
      " [ 0.25        0.625       0.08474576  0.04166667]\n",
      " [ 0.25        0.58333333  0.06779661  0.04166667]\n",
      " [ 0.11111111  0.5         0.10169492  0.04166667]\n",
      " [ 0.13888889  0.45833333  0.10169492  0.04166667]\n",
      " [ 0.30555556  0.58333333  0.08474576  0.125     ]\n",
      " [ 0.25        0.875       0.08474576  0.        ]\n",
      " [ 0.33333333  0.91666667  0.06779661  0.04166667]\n",
      " [ 0.16666667  0.45833333  0.08474576  0.        ]\n",
      " [ 0.19444444  0.5         0.03389831  0.04166667]\n",
      " [ 0.33333333  0.625       0.05084746  0.04166667]\n",
      " [ 0.16666667  0.45833333  0.08474576  0.        ]\n",
      " [ 0.02777778  0.41666667  0.05084746  0.04166667]\n",
      " [ 0.22222222  0.58333333  0.08474576  0.04166667]\n",
      " [ 0.19444444  0.625       0.05084746  0.08333333]\n",
      " [ 0.05555556  0.125       0.05084746  0.08333333]\n",
      " [ 0.02777778  0.5         0.05084746  0.04166667]\n",
      " [ 0.19444444  0.625       0.10169492  0.20833333]\n",
      " [ 0.22222222  0.75        0.15254237  0.125     ]\n",
      " [ 0.13888889  0.41666667  0.06779661  0.08333333]\n",
      " [ 0.22222222  0.75        0.10169492  0.04166667]\n",
      " [ 0.08333333  0.5         0.06779661  0.04166667]\n",
      " [ 0.27777778  0.70833333  0.08474576  0.04166667]\n",
      " [ 0.19444444  0.54166667  0.06779661  0.04166667]\n",
      " [ 0.75        0.5         0.62711864  0.54166667]\n",
      " [ 0.58333333  0.5         0.59322034  0.58333333]\n",
      " [ 0.72222222  0.45833333  0.66101695  0.58333333]\n",
      " [ 0.33333333  0.125       0.50847458  0.5       ]\n",
      " [ 0.61111111  0.33333333  0.61016949  0.58333333]\n",
      " [ 0.38888889  0.33333333  0.59322034  0.5       ]\n",
      " [ 0.55555556  0.54166667  0.62711864  0.625     ]\n",
      " [ 0.16666667  0.16666667  0.38983051  0.375     ]\n",
      " [ 0.63888889  0.375       0.61016949  0.5       ]\n",
      " [ 0.25        0.29166667  0.49152542  0.54166667]\n",
      " [ 0.19444444  0.          0.42372881  0.375     ]\n",
      " [ 0.44444444  0.41666667  0.54237288  0.58333333]\n",
      " [ 0.47222222  0.08333333  0.50847458  0.375     ]\n",
      " [ 0.5         0.375       0.62711864  0.54166667]\n",
      " [ 0.36111111  0.375       0.44067797  0.5       ]\n",
      " [ 0.66666667  0.45833333  0.57627119  0.54166667]\n",
      " [ 0.36111111  0.41666667  0.59322034  0.58333333]\n",
      " [ 0.41666667  0.29166667  0.52542373  0.375     ]\n",
      " [ 0.52777778  0.08333333  0.59322034  0.58333333]\n",
      " [ 0.36111111  0.20833333  0.49152542  0.41666667]\n",
      " [ 0.44444444  0.5         0.6440678   0.70833333]\n",
      " [ 0.5         0.33333333  0.50847458  0.5       ]\n",
      " [ 0.55555556  0.20833333  0.66101695  0.58333333]\n",
      " [ 0.5         0.33333333  0.62711864  0.45833333]\n",
      " [ 0.58333333  0.375       0.55932203  0.5       ]\n",
      " [ 0.63888889  0.41666667  0.57627119  0.54166667]\n",
      " [ 0.69444444  0.33333333  0.6440678   0.54166667]\n",
      " [ 0.66666667  0.41666667  0.6779661   0.66666667]\n",
      " [ 0.47222222  0.375       0.59322034  0.58333333]\n",
      " [ 0.38888889  0.25        0.42372881  0.375     ]\n",
      " [ 0.33333333  0.16666667  0.47457627  0.41666667]\n",
      " [ 0.33333333  0.16666667  0.45762712  0.375     ]\n",
      " [ 0.41666667  0.29166667  0.49152542  0.45833333]\n",
      " [ 0.47222222  0.29166667  0.69491525  0.625     ]\n",
      " [ 0.30555556  0.41666667  0.59322034  0.58333333]\n",
      " [ 0.47222222  0.58333333  0.59322034  0.625     ]\n",
      " [ 0.66666667  0.45833333  0.62711864  0.58333333]\n",
      " [ 0.55555556  0.125       0.57627119  0.5       ]\n",
      " [ 0.36111111  0.41666667  0.52542373  0.5       ]\n",
      " [ 0.33333333  0.20833333  0.50847458  0.5       ]\n",
      " [ 0.33333333  0.25        0.57627119  0.45833333]\n",
      " [ 0.5         0.41666667  0.61016949  0.54166667]\n",
      " [ 0.41666667  0.25        0.50847458  0.45833333]\n",
      " [ 0.19444444  0.125       0.38983051  0.375     ]\n",
      " [ 0.36111111  0.29166667  0.54237288  0.5       ]\n",
      " [ 0.38888889  0.41666667  0.54237288  0.45833333]\n",
      " [ 0.38888889  0.375       0.54237288  0.5       ]\n",
      " [ 0.52777778  0.375       0.55932203  0.5       ]\n",
      " [ 0.22222222  0.20833333  0.33898305  0.41666667]\n",
      " [ 0.38888889  0.33333333  0.52542373  0.5       ]\n",
      " [ 0.55555556  0.54166667  0.84745763  1.        ]\n",
      " [ 0.41666667  0.29166667  0.69491525  0.75      ]\n",
      " [ 0.77777778  0.41666667  0.83050847  0.83333333]\n",
      " [ 0.55555556  0.375       0.77966102  0.70833333]\n",
      " [ 0.61111111  0.41666667  0.81355932  0.875     ]\n",
      " [ 0.91666667  0.41666667  0.94915254  0.83333333]\n",
      " [ 0.16666667  0.20833333  0.59322034  0.66666667]\n",
      " [ 0.83333333  0.375       0.89830508  0.70833333]\n",
      " [ 0.66666667  0.20833333  0.81355932  0.70833333]\n",
      " [ 0.80555556  0.66666667  0.86440678  1.        ]\n",
      " [ 0.61111111  0.5         0.69491525  0.79166667]\n",
      " [ 0.58333333  0.29166667  0.72881356  0.75      ]\n",
      " [ 0.69444444  0.41666667  0.76271186  0.83333333]\n",
      " [ 0.38888889  0.20833333  0.6779661   0.79166667]\n",
      " [ 0.41666667  0.33333333  0.69491525  0.95833333]\n",
      " [ 0.58333333  0.5         0.72881356  0.91666667]\n",
      " [ 0.61111111  0.41666667  0.76271186  0.70833333]\n",
      " [ 0.94444444  0.75        0.96610169  0.875     ]\n",
      " [ 0.94444444  0.25        1.          0.91666667]\n",
      " [ 0.47222222  0.08333333  0.6779661   0.58333333]\n",
      " [ 0.72222222  0.5         0.79661017  0.91666667]\n",
      " [ 0.36111111  0.33333333  0.66101695  0.79166667]\n",
      " [ 0.94444444  0.33333333  0.96610169  0.79166667]\n",
      " [ 0.55555556  0.29166667  0.66101695  0.70833333]\n",
      " [ 0.66666667  0.54166667  0.79661017  0.83333333]\n",
      " [ 0.80555556  0.5         0.84745763  0.70833333]\n",
      " [ 0.52777778  0.33333333  0.6440678   0.70833333]\n",
      " [ 0.5         0.41666667  0.66101695  0.70833333]\n",
      " [ 0.58333333  0.33333333  0.77966102  0.83333333]\n",
      " [ 0.80555556  0.41666667  0.81355932  0.625     ]\n",
      " [ 0.86111111  0.33333333  0.86440678  0.75      ]\n",
      " [ 1.          0.75        0.91525424  0.79166667]\n",
      " [ 0.58333333  0.33333333  0.77966102  0.875     ]\n",
      " [ 0.55555556  0.33333333  0.69491525  0.58333333]\n",
      " [ 0.5         0.25        0.77966102  0.54166667]\n",
      " [ 0.94444444  0.41666667  0.86440678  0.91666667]\n",
      " [ 0.55555556  0.58333333  0.77966102  0.95833333]\n",
      " [ 0.58333333  0.45833333  0.76271186  0.70833333]\n",
      " [ 0.47222222  0.41666667  0.6440678   0.70833333]\n",
      " [ 0.72222222  0.45833333  0.74576271  0.83333333]\n",
      " [ 0.66666667  0.45833333  0.77966102  0.95833333]\n",
      " [ 0.72222222  0.45833333  0.69491525  0.91666667]\n",
      " [ 0.41666667  0.29166667  0.69491525  0.75      ]\n",
      " [ 0.69444444  0.5         0.83050847  0.91666667]\n",
      " [ 0.66666667  0.54166667  0.79661017  1.        ]\n",
      " [ 0.66666667  0.41666667  0.71186441  0.91666667]\n",
      " [ 0.55555556  0.20833333  0.6779661   0.75      ]\n",
      " [ 0.61111111  0.41666667  0.71186441  0.79166667]\n",
      " [ 0.52777778  0.58333333  0.74576271  0.91666667]\n",
      " [ 0.44444444  0.41666667  0.69491525  0.70833333]]\n"
     ]
    }
   ],
   "source": [
    "print(iris_data)"
   ]
  },
  {
   "cell_type": "code",
   "execution_count": 10,
   "metadata": {},
   "outputs": [
    {
     "name": "stdout",
     "output_type": "stream",
     "text": [
      "[0 0 0 0 0 0 0 0 0 0 0 0 0 0 0 0 0 0 0 0 0 0 0 0 0 0 0 0 0 0 0 0 0 0 0 0 0\n",
      " 0 0 0 0 0 0 0 0 0 0 0 0 0 1 1 1 1 1 1 1 1 1 1 1 1 1 1 1 1 1 1 1 1 1 1 1 1\n",
      " 1 1 1 1 1 1 1 1 1 1 1 1 1 1 1 1 1 1 1 1 1 1 1 1 1 1 2 2 2 2 2 2 2 2 2 2 2\n",
      " 2 2 2 2 2 2 2 2 2 2 2 2 2 2 2 2 2 2 2 2 2 2 2 2 2 2 2 2 2 2 2 2 2 2 2 2 2\n",
      " 2 2]\n"
     ]
    }
   ],
   "source": [
    "print(iris_target)"
   ]
  },
  {
   "cell_type": "code",
   "execution_count": 11,
   "metadata": {
    "collapsed": true
   },
   "outputs": [],
   "source": [
    "# calculate distances between two entries\n",
    "def cal_dis(row1, row2):\n",
    "    distance = 0.0\n",
    "    for i in range(len(row1)):\n",
    "        distance += (row1[i] - row2[i])**2\n",
    "    return sqrt(distance)"
   ]
  },
  {
   "cell_type": "code",
   "execution_count": 12,
   "metadata": {
    "collapsed": true
   },
   "outputs": [],
   "source": [
    "# find the index of k nearest neighbors\n",
    "def k_neighbor_index(array, k):\n",
    "    sortedIndex = np.argsort(array)\n",
    "    index = []\n",
    "    for i in range(0,k):\n",
    "        index.append(sortedIndex[i+1])\n",
    "    return index"
   ]
  },
  {
   "cell_type": "code",
   "execution_count": 13,
   "metadata": {
    "collapsed": true
   },
   "outputs": [],
   "source": [
    "# majority selection\n",
    "def select_major(index, dataset_target):\n",
    "    a = np.zeros(len(index),dtype=int)\n",
    "    for i in range(0,len(index)):\n",
    "        a[i] = dataset_target[index[i]]\n",
    "    return (np.argmax(np.bincount(a)))"
   ]
  },
  {
   "cell_type": "code",
   "execution_count": 14,
   "metadata": {
    "collapsed": true
   },
   "outputs": [],
   "source": [
    "# knn on entire dataset\n",
    "def knn(dataset, k, dataset_target):\n",
    "    predictions = []\n",
    "    for i in range(0,dataset.shape[0]):\n",
    "        row0 = dataset[i]\n",
    "        dis = []\n",
    "        for row in dataset:\n",
    "            dis.append(cal_dis(row0, row))\n",
    "        array = np.array(dis)\n",
    "        index = k_neighbor_index(array= array, k=k)\n",
    "        predictions.append(select_major(index= index, dataset_target= dataset_target))\n",
    "    return predictions"
   ]
  },
  {
   "cell_type": "code",
   "execution_count": 15,
   "metadata": {
    "collapsed": true
   },
   "outputs": [],
   "source": [
    "predictions = knn(iris_data, 5, iris_target)"
   ]
  },
  {
   "cell_type": "code",
   "execution_count": 16,
   "metadata": {},
   "outputs": [
    {
     "name": "stdout",
     "output_type": "stream",
     "text": [
      "             precision    recall  f1-score   support\n",
      "\n",
      "          0       1.00      1.00      1.00        50\n",
      "          1       0.92      0.94      0.93        50\n",
      "          2       0.94      0.92      0.93        50\n",
      "\n",
      "avg / total       0.95      0.95      0.95       150\n",
      "\n",
      "Confusion Matrix: \n",
      " [[50  0  0]\n",
      " [ 0 47  3]\n",
      " [ 0  4 46]]\n",
      "\n",
      "Accuracy:  0.953333333333\n"
     ]
    }
   ],
   "source": [
    "from sklearn.metrics import classification_report,confusion_matrix, accuracy_score\n",
    "print(classification_report(iris_target ,predictions))\n",
    "print('Confusion Matrix: \\n',confusion_matrix(iris_target ,predictions))\n",
    "print()\n",
    "print('Accuracy: ', accuracy_score(iris_target ,predictions))"
   ]
  },
  {
   "cell_type": "code",
   "execution_count": 17,
   "metadata": {},
   "outputs": [],
   "source": [
    "# knn on signle input\n",
    "def knn_single(dataset, k, newrow, dataset_target):\n",
    "    for i in range(0,dataset.shape[0]):\n",
    "        row0 = newrow\n",
    "        dis = []\n",
    "        for row in dataset:\n",
    "            dis.append(cal_dis(row0, row))\n",
    "        array = np.array(dis)\n",
    "        index = k_neighbor_index(array=array, k=k)\n",
    "        prediction = select_major(index= index, dataset_target= dataset_target)\n",
    "    return prediction "
   ]
  },
  {
   "cell_type": "code",
   "execution_count": 18,
   "metadata": {},
   "outputs": [
    {
     "name": "stdout",
     "output_type": "stream",
     "text": [
      "Data=[5.7, 2.9, 4.2, 1.3], Predicted: 2\n"
     ]
    }
   ],
   "source": [
    "# predict on a new input\n",
    "newrow = [5.7,2.9,4.2,1.3]\n",
    "label = knn_single(iris_data, 5, newrow, iris_target)\n",
    "print('Data=%s, Predicted: %s' % (newrow, label))"
   ]
  },
  {
   "cell_type": "code",
   "execution_count": 19,
   "metadata": {},
   "outputs": [],
   "source": [
    "# weighted knn\n",
    "def weighted_classify(dataset,k, dataset_target, weight_method):\n",
    "    predictions = []\n",
    "    for i in range(0,dataset.shape[0]):\n",
    "        row0 = dataset[i]\n",
    "        dis = []\n",
    "        for row in dataset:\n",
    "            dis.append(cal_dis(row0, row))\n",
    "        array = np.array(dis)\n",
    "        sortedDistIndex = np.argsort(array)\n",
    "\n",
    "        classCount = {}\n",
    "        for j in range(k):\n",
    "            index = sortedDistIndex[j+1]\n",
    "            voteLabel = dataset_target[index]\n",
    "            if weight_method == 1:\n",
    "                weight = 1/(dis[index]+1)\n",
    "            else:\n",
    "                weight = 1/(dis[index]**2+1)\n",
    "            classCount[voteLabel] = classCount.get(voteLabel, 0) + weight*1\n",
    "            maxCount = 0\n",
    "            for key, value in classCount.items():\n",
    "                if value > maxCount:\n",
    "                    maxCount = value\n",
    "                    classes = key\n",
    "        predictions.append(classes)\n",
    "    return predictions"
   ]
  },
  {
   "cell_type": "code",
   "execution_count": 20,
   "metadata": {},
   "outputs": [
    {
     "name": "stdout",
     "output_type": "stream",
     "text": [
      "[0, 0, 0, 0, 0, 0, 0, 0, 0, 0, 0, 0, 0, 0, 0, 0, 0, 0, 0, 0, 0, 0, 0, 0, 0, 0, 0, 0, 0, 0, 0, 0, 0, 0, 0, 0, 0, 0, 0, 0, 0, 0, 0, 0, 0, 0, 0, 0, 0, 0, 1, 1, 2, 1, 1, 1, 1, 1, 1, 1, 1, 1, 1, 1, 1, 1, 1, 1, 1, 1, 2, 1, 1, 1, 1, 1, 1, 2, 1, 1, 1, 1, 1, 1, 1, 1, 1, 1, 1, 1, 1, 1, 1, 1, 1, 1, 1, 1, 1, 1, 2, 2, 2, 2, 2, 2, 1, 2, 2, 2, 2, 2, 2, 1, 2, 2, 2, 2, 2, 1, 2, 1, 2, 1, 2, 2, 1, 1, 2, 2, 2, 2, 2, 1, 1, 2, 2, 2, 1, 2, 2, 2, 2, 2, 2, 2, 2, 2, 2, 1]\n"
     ]
    }
   ],
   "source": [
    "predictions = weighted_classify(iris_data, 99, iris_target, weight_method=1)\n",
    "print(predictions)"
   ]
  },
  {
   "cell_type": "code",
   "execution_count": 21,
   "metadata": {},
   "outputs": [
    {
     "name": "stdout",
     "output_type": "stream",
     "text": [
      "             precision    recall  f1-score   support\n",
      "\n",
      "          0       1.00      1.00      1.00        50\n",
      "          1       0.81      0.94      0.87        50\n",
      "          2       0.93      0.78      0.85        50\n",
      "\n",
      "avg / total       0.91      0.91      0.91       150\n",
      "\n",
      "Confusion Matrix: \n",
      " [[50  0  0]\n",
      " [ 0 47  3]\n",
      " [ 0 11 39]]\n",
      "\n",
      "Accuracy:  0.906666666667\n"
     ]
    }
   ],
   "source": [
    "print(classification_report(iris_target ,predictions))\n",
    "print('Confusion Matrix: \\n',confusion_matrix(iris_target ,predictions))\n",
    "print()\n",
    "print('Accuracy: ', accuracy_score(iris_target ,predictions))"
   ]
  },
  {
   "cell_type": "code",
   "execution_count": 22,
   "metadata": {},
   "outputs": [
    {
     "name": "stdout",
     "output_type": "stream",
     "text": [
      "[0, 0, 0, 0, 0, 0, 0, 0, 0, 0, 0, 0, 0, 0, 0, 0, 0, 0, 0, 0, 0, 0, 0, 0, 0, 0, 0, 0, 0, 0, 0, 0, 0, 0, 0, 0, 0, 0, 0, 0, 0, 0, 0, 0, 0, 0, 0, 0, 0, 0, 2, 1, 2, 1, 1, 1, 2, 1, 1, 1, 1, 1, 1, 1, 1, 1, 1, 1, 1, 1, 2, 1, 1, 1, 1, 1, 1, 2, 1, 1, 1, 1, 1, 1, 1, 1, 2, 1, 1, 1, 1, 1, 1, 1, 1, 1, 1, 1, 1, 1, 2, 1, 2, 2, 2, 2, 1, 2, 2, 2, 2, 2, 2, 1, 2, 2, 2, 2, 2, 1, 2, 1, 2, 1, 2, 2, 1, 1, 2, 2, 2, 2, 2, 1, 1, 2, 2, 2, 1, 2, 2, 2, 1, 2, 2, 2, 1, 2, 2, 1]\n"
     ]
    }
   ],
   "source": [
    "predictions = weighted_classify(iris_data, 99, iris_target, weight_method=2)\n",
    "print(predictions)"
   ]
  },
  {
   "cell_type": "code",
   "execution_count": 23,
   "metadata": {},
   "outputs": [
    {
     "name": "stdout",
     "output_type": "stream",
     "text": [
      "             precision    recall  f1-score   support\n",
      "\n",
      "          0       1.00      1.00      1.00        50\n",
      "          1       0.76      0.88      0.81        50\n",
      "          2       0.86      0.72      0.78        50\n",
      "\n",
      "avg / total       0.87      0.87      0.87       150\n",
      "\n",
      "Confusion Matrix: \n",
      " [[50  0  0]\n",
      " [ 0 44  6]\n",
      " [ 0 14 36]]\n",
      "\n",
      "Accuracy:  0.866666666667\n"
     ]
    }
   ],
   "source": [
    "print(classification_report(iris_target ,predictions))\n",
    "print('Confusion Matrix: \\n',confusion_matrix(iris_target ,predictions))\n",
    "print()\n",
    "print('Accuracy: ', accuracy_score(iris_target ,predictions))"
   ]
  }
 ],
 "metadata": {
  "kernelspec": {
   "display_name": "Python 3",
   "language": "python",
   "name": "python3"
  },
  "language_info": {
   "codemirror_mode": {
    "name": "ipython",
    "version": 3
   },
   "file_extension": ".py",
   "mimetype": "text/x-python",
   "name": "python",
   "nbconvert_exporter": "python",
   "pygments_lexer": "ipython3",
   "version": "3.6.3"
  }
 },
 "nbformat": 4,
 "nbformat_minor": 2
}
